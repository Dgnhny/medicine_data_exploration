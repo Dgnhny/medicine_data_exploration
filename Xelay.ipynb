{
 "cells": [
  {
   "cell_type": "code",
   "execution_count": 3,
   "id": "3805b15c",
   "metadata": {},
   "outputs": [],
   "source": [
    "import sklearn\n",
    "import pandas as pd\n",
    "import numpy as np\n",
    "import matplotlib.pyplot as plt\n",
    "import seaborn as sns"
   ]
  },
  {
   "cell_type": "code",
   "execution_count": 113,
   "id": "982234d5",
   "metadata": {
    "scrolled": true
   },
   "outputs": [
    {
     "name": "stderr",
     "output_type": "stream",
     "text": [
      "C:\\Users\\Dear User\\anaconda3\\lib\\site-packages\\openpyxl\\worksheet\\_read_only.py:79: UserWarning: Unknown extension is not supported and will be removed\n",
      "  for idx, row in parser.parse():\n"
     ]
    },
    {
     "name": "stdout",
     "output_type": "stream",
     "text": [
      "   ID    Med Admin Date  Units\n",
      "0   1  Med A 2012-07-02   1500\n",
      "1   1  Med A 2012-07-06   1500\n",
      "2   1  Med A 2012-07-09   1500\n",
      "3   1  Med A 2012-07-11   1500\n",
      "4   1  Med A 2012-07-13   1500\n",
      "    ID  DRAW_DATE LAB_RESULT_CODE LAB_VALUE\n",
      "0  1.0 2012-07-04           LAB A       679\n",
      "1  1.0 2012-08-01           LAB A       621\n",
      "2  1.0 2012-09-05           LAB A       915\n",
      "3  1.0 2012-10-03           LAB A       848\n",
      "4  1.0 2012-11-07           LAB A       845\n"
     ]
    }
   ],
   "source": [
    "# data cleaning\n",
    "admin=pd.read_excel(r\"C:\\Users\\Dear User\\OneDrive\\桌面\\Xelay\\Admin.xlsx\")\n",
    "labs=pd.read_excel(r\"C:\\Users\\Dear User\\OneDrive\\桌面\\Xelay\\Labs.xlsx\")\n",
    "print(admin.head())\n",
    "print(labs.head())"
   ]
  },
  {
   "cell_type": "code",
   "execution_count": 5,
   "id": "7b45ca87",
   "metadata": {},
   "outputs": [
    {
     "name": "stdout",
     "output_type": "stream",
     "text": [
      "            Isnull  IsNa  Duplicate  Unique  count\n",
      "ID               0     0          0     129   2022\n",
      "Med              0     0          0       2   2022\n",
      "Admin Date       0     0          0      96   2022\n",
      "Units            0     0          0     111   2022\n",
      "                 Isnull  IsNa  Duplicate  Unique  count\n",
      "ID                  302   302          5     117   2095\n",
      "DRAW_DATE             0     0          5     119   2397\n",
      "LAB_RESULT_CODE       0     0          5       3   2397\n",
      "LAB_VALUE             0     0          5     615   2397\n"
     ]
    }
   ],
   "source": [
    "def info(data):\n",
    "    info = pd.DataFrame()\n",
    "    info[\"Isnull\"] = data.isnull().sum()\n",
    "    info.insert(1, \"IsNa\", data.isna().sum(), True)\n",
    "    info.insert(2, \"Duplicate\", data.duplicated().sum(), True)\n",
    "    info.insert(3, \"Unique\", data.nunique(), True)\n",
    "    info.insert(4, \"count\", data.count(), True)\n",
    "    return info\n",
    "print(info(admin))\n",
    "print(info(labs))\n"
   ]
  },
  {
   "cell_type": "code",
   "execution_count": 6,
   "id": "14fbbbca",
   "metadata": {},
   "outputs": [
    {
     "name": "stdout",
     "output_type": "stream",
     "text": [
      "         ID  DRAW_DATE LAB_RESULT_CODE LAB_VALUE\n",
      "0       1.0 2012-07-04           LAB A       679\n",
      "1       1.0 2012-08-01           LAB A       621\n",
      "2       1.0 2012-09-05           LAB A       915\n",
      "3       1.0 2012-10-03           LAB A       848\n",
      "4       1.0 2012-11-07           LAB A       845\n",
      "...     ...        ...             ...       ...\n",
      "2392  129.0 2012-08-16           LAB B      10.0\n",
      "2393  129.0 2012-09-04           LAB B       9.4\n",
      "2394  129.0 2012-07-05           LAB C        36\n",
      "2395  129.0 2012-08-02           LAB C        39\n",
      "2396  129.0 2012-09-04           LAB C        27\n",
      "\n",
      "[2095 rows x 4 columns]\n",
      "                 Isnull  IsNa  Duplicate  Unique  count\n",
      "ID                    0     0          0     117   2095\n",
      "DRAW_DATE             0     0          0     112   2095\n",
      "LAB_RESULT_CODE       0     0          0       3   2095\n",
      "LAB_VALUE             0     0          0     560   2095\n"
     ]
    }
   ],
   "source": [
    "#labs NA cleaning \n",
    "#Although there is 0.12% NA in all data, I drop this for the complete of the result\n",
    "labs_new=labs.dropna()\n",
    "\n",
    "print(labs_new)\n",
    "print(info(labs_new))"
   ]
  },
  {
   "cell_type": "code",
   "execution_count": 126,
   "id": "74bc57a4",
   "metadata": {},
   "outputs": [
    {
     "name": "stdout",
     "output_type": "stream",
     "text": [
      "Admin Date  Med  \n",
      "2012-07     Med A    4303700\n",
      "2012-08     Med A    4477100\n",
      "2012-09     Med A     849900\n",
      "            Med B        535\n",
      "2012-10     Med B        393\n",
      "2012-11     Med A      75300\n",
      "            Med B        420\n",
      "2012-12     Med A      10200\n",
      "            Med B          1\n",
      "Name: Units, dtype: int64\n",
      "Med\n",
      "Med A    113\n",
      "Med B     97\n",
      "Name: ID, dtype: int64\n"
     ]
    }
   ],
   "source": [
    "#Q1 \n",
    "admin_Q1=admin.copy()\n",
    "admin_Q1[\"Admin Date\"]=admin_Q1[\"Admin Date\"].dt.to_period(\"M\")\n",
    "sum_med_m=admin_Q1.groupby([\"Admin Date\",\"Med\"])[\"Units\"].sum()\n",
    "print(sum_med_m)\n",
    "\n",
    "#Q2\n",
    "admin_Q2=admin_Q1.copy()\n",
    "admin_Q2=admin_Q2[(admin_Q2[\"Admin Date\"]>=\"2012-07\") & (admin_new[\"Admin Date\"]<=\"2012-12\")]\n",
    "count_patient=admin_Q2.groupby(\"Med\")[\"ID\"].nunique()\n",
    "print(count_patient)"
   ]
  },
  {
   "cell_type": "code",
   "execution_count": 8,
   "id": "c1b9a52e",
   "metadata": {},
   "outputs": [
    {
     "name": "stdout",
     "output_type": "stream",
     "text": [
      "            Isnull  IsNa  Duplicate  Unique  count\n",
      "ID               0     0       1435     129   2022\n",
      "Med              0     0       1435       2   2022\n",
      "Admin Date       0     0       1435       6   2022\n",
      "Units            0     0       1435     111   2022\n",
      "Admin Date  Med  \n",
      "2012-07     Med A    4303700\n",
      "2012-08     Med A    4477100\n",
      "2012-09     Med A     849900\n",
      "            Med B        535\n",
      "2012-10     Med B        393\n",
      "2012-11     Med A      75300\n",
      "            Med B        420\n",
      "2012-12     Med A      10200\n",
      "            Med B          1\n",
      "Name: Units, dtype: int64\n",
      "Admin Date  Med  \n",
      "2012-07     Med A    839\n",
      "2012-08     Med A    793\n",
      "2012-09     Med A    160\n",
      "            Med B     76\n",
      "2012-10     Med B     68\n",
      "2012-11     Med A      7\n",
      "            Med B     75\n",
      "2012-12     Med A      3\n",
      "            Med B      1\n",
      "Name: Units, dtype: int64\n",
      "Admin Date  Med  \n",
      "2012-07     Med A     5129.56\n",
      "2012-08     Med A     5645.78\n",
      "2012-09     Med A     5311.88\n",
      "            Med B        7.04\n",
      "2012-10     Med B        5.78\n",
      "2012-11     Med A    10757.14\n",
      "            Med B        5.60\n",
      "2012-12     Med A     3400.00\n",
      "            Med B        1.00\n",
      "Name: Units, dtype: float64\n"
     ]
    }
   ],
   "source": [
    "#Q3 7~11\n",
    "admin_new=admin.copy()\n",
    "admin_new[\"Admin Date\"]=admin_new[\"Admin Date\"].dt.to_period(\"M\")\n",
    "total_dose= admin_new.groupby([\"Admin Date\",\"Med\"])[\"Units\"].sum()\n",
    "patient_count=admin_new.groupby([\"Admin Date\",\"Med\"])[\"Units\"].count()\n",
    "\n",
    "print(info(admin_new))\n",
    "print(total_dose)\n",
    "print(patient_count)\n",
    "\n",
    "result_Q3=total_dose/patient_count\n",
    "result_Q3=round(result_Q3,2)\n",
    "\n",
    "print(result_Q3)"
   ]
  },
  {
   "cell_type": "code",
   "execution_count": 228,
   "id": "5d70430c",
   "metadata": {},
   "outputs": [
    {
     "name": "stdout",
     "output_type": "stream",
     "text": [
      "       ID    Med Admin Date  Units\n",
      "24      1  Med A    2012-09   1900\n",
      "25      1  Med A    2012-09   1900\n",
      "26      1  Med B    2012-09      4\n",
      "27      1  Med B    2012-10      3\n",
      "28      1  Med B    2012-11      1\n",
      "...   ...    ...        ...    ...\n",
      "2009  128  Med B    2012-10      1\n",
      "2010  128  Med B    2012-11      2\n",
      "2019  129  Med A    2012-09   5200\n",
      "2020  129  Med A    2012-09   6500\n",
      "2021  129  Med B    2012-09     10\n",
      "\n",
      "[386 rows x 4 columns]\n",
      "            Isnull  IsNa  Duplicate  Unique  count\n",
      "ID               0     0         85     107    386\n",
      "Med              0     0         85       2    386\n",
      "Admin Date       0     0         85       3    386\n",
      "Units            0     0         85      73    386\n",
      "Switched Patients: 67\n",
      "New Med B Patients: 30\n",
      "Med A Patients: 10\n",
      "67\n"
     ]
    }
   ],
   "source": [
    "#Q4 9~11 三種可能性 1.A->B 2.A->A 3.B->B\n",
    "admin_new_Q4=admin_new.copy()\n",
    "admin_new_Q4=admin_new_Q4[(admin_new_Q4[\"Admin Date\"]>=\"2012-9\") & (admin_new_Q4[\"Admin Date\"]<\"2012-12\")]\n",
    "print(admin_new_Q4)\n",
    "print(info(admin_new_Q4))\n",
    "\n",
    "switched_patients = set()  \n",
    "new_Med_B_patients = set()  \n",
    "Med_A_patients = set()  \n",
    "\n",
    "for patient_id in admin_new_Q4[\"ID\"].unique():\n",
    "    patient_data = admin_new_Q4[admin_new_Q4[\"ID\"] == patient_id]\n",
    "    meds_used = set(patient_data[\"Med\"])\n",
    "\n",
    "    if \"Med A\" in meds_used and \"Med B\" in meds_used:\n",
    "        switched_patients.add(patient_id)\n",
    "    elif \"Med B\" in meds_used and \"Med A\" not in meds_used:\n",
    "        new_Med_B_patients.add(patient_id)\n",
    "    elif \"Med A\" in meds_used and \"Med B\" not in meds_used:\n",
    "        Med_A_patients.add(patient_id)\n",
    "\n",
    "switched_count = len(switched_patients)\n",
    "new_Med_B_count = len(new_Med_B_patients)\n",
    "Med_A_patients_count = len(Med_A_patients)\n",
    "\n",
    "print(\"Switched Patients:\", switched_count)\n",
    "print(\"New Med B Patients:\", new_Med_B_count)\n",
    "print(\"Med A Patients:\", Med_A_patients_count)\n",
    "print(len(switched_patients))"
   ]
  },
  {
   "cell_type": "code",
   "execution_count": 243,
   "id": "8b2d7111",
   "metadata": {},
   "outputs": [
    {
     "name": "stdout",
     "output_type": "stream",
     "text": [
      "Results for the selected time period:\n",
      "Switched Patients: 62\n",
      "New Med B Patients: 14\n",
      "Med A Patients: 11\n",
      "{128, 1, 129, 4, 8, 9, 10, 12, 15, 16, 17, 18, 19, 20, 21, 25, 29, 30, 38, 39, 46, 47, 48, 49, 52, 53, 54, 60, 65, 69, 73, 75, 81, 82, 83, 85, 86, 87, 90, 91, 92, 94, 96, 97, 98, 99, 100, 101, 104, 105, 106, 110, 112, 113, 114, 116, 117, 118, 119, 122, 125, 126} {2, 36, 5, 41, 123, 77, 109, 24, 57, 56, 88, 28, 63, 31} {64, 33, 66, 74, 14, 111, 80, 50, 22, 89, 62}\n"
     ]
    }
   ],
   "source": [
    "#Q4 轉換為def定義式 以重複利用\n",
    "\n",
    "switched_patients_other = set()\n",
    "new_Med_B_patients_other = set()\n",
    "Med_A_patients_other= set()\n",
    "\n",
    "def calculate_patient_stats(admin_data, start_date, end_date):\n",
    "    admin_filtered = admin_data[(admin_data[\"Admin Date\"] >= start_date) & (admin_data[\"Admin Date\"] < end_date)]\n",
    "\n",
    "    for patient_id in admin_filtered[\"ID\"].unique():\n",
    "        patient_data = admin_filtered[admin_filtered[\"ID\"] == patient_id]\n",
    "        meds_used = set(patient_data[\"Med\"])\n",
    "\n",
    "        if \"Med A\" in meds_used and \"Med B\" in meds_used:\n",
    "            switched_patients_other.add(patient_id)\n",
    "        elif \"Med B\" in meds_used and \"Med A\" not in meds_used:\n",
    "            new_Med_B_patients_other.add(patient_id)\n",
    "        elif \"Med A\" in meds_used and \"Med B\" not in meds_used:\n",
    "            Med_A_patients_other.add(patient_id)\n",
    "\n",
    "    switched_count_other = len(switched_patients_other)\n",
    "    new_Med_B_count_other = len(new_Med_B_patients_other)\n",
    "    Med_A_patients_count_other = len(Med_A_patients_other)\n",
    "\n",
    "    return {\n",
    "        \"Switched Patients\": switched_count_other,\n",
    "        \"New Med B Patients\": new_Med_B_count_other,\n",
    "        \"Med A Patients\": Med_A_patients_count_other\n",
    "    }\n",
    "\n",
    "\n",
    "start_date = \"2012-9\"\n",
    "end_date = \"2012-10\"\n",
    "result = calculate_patient_stats(admin_new, start_date, end_date)\n",
    "print(\"Results for the selected time period:\")\n",
    "for key, value in result.items():\n",
    "    print(f\"{key}: {value}\")\n",
    "\n",
    "print(switched_patients_other,new_Med_B_patients_other,Med_A_patients_other)"
   ]
  },
  {
   "cell_type": "code",
   "execution_count": 250,
   "id": "55752c7c",
   "metadata": {},
   "outputs": [
    {
     "name": "stdout",
     "output_type": "stream",
     "text": [
      "67\n",
      "0 days 09:49:30.575692963\n",
      "192 days 00:00:00\n"
     ]
    }
   ],
   "source": [
    "#Q5 9~11 轉換前Med A的平均使用期間\n",
    "#print(\"Switched Patients:\", switched_patients)\n",
    "#print(\"New Med B Patients:\", new_Med_B_patients)\n",
    "#print(\"Med A Patients:\", Med_A_patients)\n",
    "\n",
    "switched_list=list(switched_patients)\n",
    "admin_new_Q5=admin.copy()\n",
    "admin_new_Q5=admin_new_Q5[(admin_new_Q5[\"Admin Date\"]>=\"2012-9\") & (admin_new_Q5[\"Admin Date\"]<\"2012-12\")]\n",
    "admin_new_Q5=admin_new_Q5[admin_new_Q5[\"ID\"].isin(switched_list)]\n",
    "\n",
    "#print(admin_new_Q5)\n",
    "#print(info(admin_new_Q5))\n",
    "\n",
    "diff=[]\n",
    "for patient_id in range(1, 130):\n",
    "    med_A_data = admin_new_Q5[(admin_new_Q5[\"Med\"] == \"Med A\") & (admin_new_Q5[\"ID\"] == patient_id)]\n",
    "\n",
    "    if not med_A_data.empty:\n",
    "        min_date = med_A_data[\"Admin Date\"].min()\n",
    "        max_date = med_A_data[\"Admin Date\"].max()\n",
    "        difference = max_date - min_date\n",
    "        diff.append(difference)\n",
    "        \n",
    "total_difference=sum(diff,pd.Timedelta(0))\n",
    "duration=7*len(diff)\n",
    "averange_week=total_difference/duration\n",
    "print(len(diff))\n",
    "print(averange_week)\n",
    "print(total_difference)"
   ]
  },
  {
   "cell_type": "code",
   "execution_count": 251,
   "id": "a5fb27b0",
   "metadata": {},
   "outputs": [
    {
     "name": "stdout",
     "output_type": "stream",
     "text": [
      "       ID    Med Admin Date  Units\n",
      "24      1  Med A 2012-09-03   1900\n",
      "25      1  Med A 2012-09-05   1900\n",
      "26      1  Med B 2012-09-12      4\n",
      "27      1  Med B 2012-10-17      3\n",
      "28      1  Med B 2012-11-28      1\n",
      "...   ...    ...        ...    ...\n",
      "2009  128  Med B 2012-10-11      1\n",
      "2010  128  Med B 2012-11-15      2\n",
      "2019  129  Med A 2012-09-04   5200\n",
      "2020  129  Med A 2012-09-06   6500\n",
      "2021  129  Med B 2012-09-13     10\n",
      "\n",
      "[312 rows x 4 columns]\n",
      "792300\n",
      "Med\n",
      "Med A    792300\n",
      "Med B      1064\n",
      "Name: Units, dtype: int64\n",
      "1868.1474145858385\n",
      "67\n"
     ]
    }
   ],
   "source": [
    "#Q6\n",
    "\n",
    "admin_new_Q6=admin_new_Q5.copy()\n",
    "sum_dose=admin_new_Q6.groupby(\"Med\")[\"Units\"].sum()\n",
    "sum_dose_A=sum_dose[\"Med A\"]\n",
    "print(admin_new_Q6)\n",
    "print(sum_dose_A)\n",
    "print(sum_dose)\n",
    "\n",
    "\n",
    "averange_dose_A=sum_dose_A/(len(diff)*6.33)\n",
    "print(averange_dose_A)\n",
    "\n",
    "print(admin_new_Q6[\"ID\"].nunique())"
   ]
  },
  {
   "cell_type": "code",
   "execution_count": 253,
   "id": "45e9d672",
   "metadata": {},
   "outputs": [
    {
     "name": "stdout",
     "output_type": "stream",
     "text": [
      "       ID    Med Admin Date  Units\n",
      "26      1  Med B 2012-09-12      4\n",
      "27      1  Med B 2012-10-17      3\n",
      "28      1  Med B 2012-11-28      1\n",
      "82      4  Med B 2012-09-12      3\n",
      "83      4  Med B 2012-11-14      1\n",
      "...   ...    ...        ...    ...\n",
      "1979  126  Med B 2012-11-14      2\n",
      "2008  128  Med B 2012-09-25      1\n",
      "2009  128  Med B 2012-10-11      1\n",
      "2010  128  Med B 2012-11-15      2\n",
      "2021  129  Med B 2012-09-13     10\n",
      "\n",
      "[163 rows x 4 columns]\n",
      "ID\n",
      "1      3\n",
      "4      2\n",
      "8      3\n",
      "9      3\n",
      "10     3\n",
      "      ..\n",
      "122    2\n",
      "125    3\n",
      "126    2\n",
      "128    3\n",
      "129    1\n",
      "Name: Med, Length: 67, dtype: int64\n",
      "6\n",
      "61\n",
      "[Timedelta('78 days 00:00:00')]\n",
      "15.249809671973784\n",
      "67\n"
     ]
    }
   ],
   "source": [
    "med_b_data = admin_new_Q5[admin_new_Q5[\"Med\"] == \"Med B\"]\n",
    "med_b_count=med_b_data.groupby(\"ID\")[\"Med\"].count()\n",
    "print(med_b_data)\n",
    "print(med_b_count.head(67))\n",
    "\n",
    "single_use_med_b = med_b_count[med_b_count == 1].index\n",
    "multiple_use_med_b=med_b_count[med_b_count > 1].index\n",
    "print(len(single_use_med_b))\n",
    "print(len(multiple_use_med_b))\n",
    "#已知有兩種可能用量1次 或一次以上\n",
    "\n",
    "count=0\n",
    "difference_b=[]\n",
    "if med_b_data[\"ID\"].isin(multiple_use_med_b).any():\n",
    "    max_date_b=med_b_data[\"Admin Date\"].max()\n",
    "    min_date_b=med_b_data[\"Admin Date\"].min()\n",
    "    diff=max_date_b-min_date_b\n",
    "    difference_b.append(diff)\n",
    "\n",
    "print(difference_b)\n",
    "# 84天(使用量1次:6個、多次:78天)\n",
    "averange_month=84/(4.33*7)\n",
    "averange_dose_B=sum_dose[\"Med B\"]/(averange_month+len(med_b_count))\n",
    "print(averange_dose_B)"
   ]
  },
  {
   "cell_type": "code",
   "execution_count": 254,
   "id": "737e588a",
   "metadata": {},
   "outputs": [
    {
     "name": "stdout",
     "output_type": "stream",
     "text": [
      "Med\n",
      "Med A    792300\n",
      "Med B      1064\n",
      "Name: Units, dtype: int64\n",
      "7.446428571428571\n"
     ]
    }
   ],
   "source": [
    "#Q7 \n",
    "admin_new_Q7=admin_new_Q6.copy()\n",
    "sum_dose=admin_new_Q7.groupby(\"Med\")[\"Units\"].sum()\n",
    "print(sum_dose)\n",
    "breakeven_price_B=sum_dose[\"Med A\"]/(100*sum_dose[\"Med B\"])\n",
    "print(breakeven_price_B)\n",
    "#每單位7.45美元"
   ]
  },
  {
   "cell_type": "code",
   "execution_count": 208,
   "id": "1a58513f",
   "metadata": {},
   "outputs": [
    {
     "name": "stdout",
     "output_type": "stream",
     "text": [
      "       ID    Med Admin Date  Units\n",
      "26      1  Med B    2012-09      4\n",
      "27      1  Med B    2012-10      3\n",
      "28      1  Med B    2012-11      1\n",
      "82      4  Med B    2012-09      3\n",
      "83      4  Med B    2012-11      1\n",
      "...   ...    ...        ...    ...\n",
      "1979  126  Med B    2012-11      2\n",
      "2008  128  Med B    2012-09      1\n",
      "2009  128  Med B    2012-10      1\n",
      "2010  128  Med B    2012-11      2\n",
      "2021  129  Med B    2012-09     10\n",
      "\n",
      "[163 rows x 4 columns]\n",
      "67\n",
      "Admin Date\n",
      "2012-09    448\n",
      "2012-10    301\n",
      "2012-11    315\n",
      "Freq: M, Name: Units, dtype: int64\n",
      "Admin Date\n",
      "2012-09    62\n",
      "2012-10    46\n",
      "2012-11    51\n",
      "Freq: M, Name: ID, dtype: int64\n",
      "Admin Date\n",
      "2012-09    7.225806\n",
      "2012-10    6.543478\n",
      "2012-11    6.176471\n",
      "Freq: M, dtype: float64\n"
     ]
    }
   ],
   "source": [
    "#Q8\n",
    "med_b_data_Q8=med_b_data.copy()\n",
    "med_b_data_Q8[\"Admin Date\"]=med_b_data_Q8[\"Admin Date\"].dt.to_period(\"M\")\n",
    "print(med_b_data_Q8)\n",
    "print(med_b_data_Q8[\"ID\"].nunique())\n",
    "\n",
    "category_unit=med_b_data_Q8.groupby(\"Admin Date\")[\"Units\"].sum()\n",
    "print(category_unit)\n",
    "\n",
    "category_id=med_b_data_Q8.groupby(\"Admin Date\")[\"ID\"].nunique()\n",
    "print(category_id)\n",
    "\n",
    "average_switch=category_unit/category_id\n",
    "print(average_switch)"
   ]
  },
  {
   "cell_type": "code",
   "execution_count": 261,
   "id": "ad13ece4",
   "metadata": {},
   "outputs": [
    {
     "name": "stdout",
     "output_type": "stream",
     "text": [
      "       ID    Med Admin Date  Units\n",
      "24      1  Med A 2012-09-03   1900\n",
      "25      1  Med A 2012-09-05   1900\n",
      "26      1  Med B 2012-09-12      4\n",
      "27      1  Med B 2012-10-17      3\n",
      "28      1  Med B 2012-11-28      1\n",
      "...   ...    ...        ...    ...\n",
      "2009  128  Med B 2012-10-11      1\n",
      "2010  128  Med B 2012-11-15      2\n",
      "2019  129  Med A 2012-09-04   5200\n",
      "2020  129  Med A 2012-09-06   6500\n",
      "2021  129  Med B 2012-09-13     10\n",
      "\n",
      "[312 rows x 4 columns]\n",
      "Admin Date  Med  \n",
      "2012-09     Med A    792300\n",
      "            Med B       448\n",
      "2012-10     Med B       301\n",
      "2012-11     Med B       315\n",
      "Name: Units, dtype: int64\n",
      "Admin Date  Med  \n",
      "2012-09     Med A    67\n",
      "            Med B    62\n",
      "2012-10     Med B    46\n",
      "2012-11     Med B    51\n",
      "Name: ID, dtype: int64\n",
      "Admin Date  Med  \n",
      "2012-09     Med A    11825.373134\n",
      "            Med B        7.225806\n",
      "2012-10     Med B        6.543478\n",
      "2012-11     Med B        6.176471\n",
      "dtype: float64\n"
     ]
    }
   ],
   "source": [
    "#Q8\n",
    "admin_Q8=admin_new_Q6.copy()\n",
    "print(admin_Q8)\n",
    "admin_Q8[\"Admin Date\"]=admin_Q8[\"Admin Date\"].dt.to_period(\"M\")\n",
    "sum_Q8=admin_Q8.groupby([\"Admin Date\",\"Med\"])[\"Units\"].sum()\n",
    "\n",
    "count_Q8=admin_Q8.groupby([\"Admin Date\",\"Med\"])[\"ID\"].nunique()\n",
    "average_Q8=sum_Q8/count_Q8\n",
    "print(sum_Q8)\n",
    "print(count_Q8)\n",
    "print(average_Q8)"
   ]
  },
  {
   "cell_type": "code",
   "execution_count": null,
   "id": "65b131a2",
   "metadata": {},
   "outputs": [],
   "source": [
    "#Q9\n"
   ]
  },
  {
   "cell_type": "code",
   "execution_count": 69,
   "id": "c2b1ba6e",
   "metadata": {},
   "outputs": [
    {
     "name": "stdout",
     "output_type": "stream",
     "text": [
      "       ID    Med Admin Date  Units\n",
      "24      1  Med A 2012-09-03   1900\n",
      "25      1  Med A 2012-09-05   1900\n",
      "26      1  Med B 2012-09-12      4\n",
      "27      1  Med B 2012-10-17      3\n",
      "28      1  Med B 2012-11-28      1\n",
      "...   ...    ...        ...    ...\n",
      "2009  128  Med B 2012-10-11      1\n",
      "2010  128  Med B 2012-11-15      2\n",
      "2019  129  Med A 2012-09-04   5200\n",
      "2020  129  Med A 2012-09-06   6500\n",
      "2021  129  Med B 2012-09-13     10\n",
      "\n",
      "[387 rows x 4 columns]\n",
      "       ID  DRAW_DATE LAB_RESULT_CODE LAB_VALUE\n",
      "10    1.0 2012-09-05           LAB B      10.4\n",
      "11    1.0 2012-09-19           LAB B      10.7\n",
      "12    1.0 2012-10-03           LAB B      11.0\n",
      "13    1.0 2012-10-17           LAB B      11.0\n",
      "14    1.0 2012-11-07           LAB B      11.9\n",
      "15    1.0 2012-11-20           LAB B      11.1\n",
      "33    2.0 2012-09-01           LAB B      10.6\n",
      "34    2.0 2012-09-04           LAB B      10.0\n",
      "35    2.0 2012-09-20           LAB B      10.8\n",
      "36    2.0 2012-10-06           LAB B      13.0\n",
      "37    2.0 2012-10-18           LAB B      12.0\n",
      "38    2.0 2012-11-08           LAB B      12.5\n",
      "39    2.0 2012-11-19           LAB B      10.6\n",
      "59    3.0 2012-09-05           LAB B      11.8\n",
      "60    3.0 2012-09-12           LAB B      12.0\n",
      "61    3.0 2012-09-19           LAB B      12.1\n",
      "62    3.0 2012-10-03           LAB B      11.9\n",
      "63    3.0 2012-10-17           LAB B      11.6\n",
      "64    3.0 2012-11-07           LAB B      11.9\n",
      "65    3.0 2012-11-20           LAB B      11.8\n",
      "82    4.0 2012-09-05           LAB B      11.3\n",
      "83    4.0 2012-09-19           LAB B      12.6\n",
      "84    4.0 2012-10-03           LAB B      13.0\n",
      "85    4.0 2012-10-17           LAB B      12.3\n",
      "86    4.0 2012-11-07           LAB B      11.5\n",
      "87    4.0 2012-11-20           LAB B      10.7\n",
      "104   5.0 2012-09-07           LAB B      10.7\n",
      "105   5.0 2012-09-12           LAB B       9.9\n",
      "106   5.0 2012-09-19           LAB B      10.4\n",
      "107   5.0 2012-10-03           LAB B      11.0\n",
      "108   5.0 2012-10-17           LAB B      10.0\n",
      "109   5.0 2012-11-07           LAB B       9.9\n",
      "110   5.0 2012-11-20           LAB B      10.4\n",
      "139   8.0 2012-09-04           LAB B       9.9\n",
      "140   8.0 2012-09-20           LAB B      10.1\n",
      "141   8.0 2012-10-04           LAB B      10.7\n",
      "142   8.0 2012-10-18           LAB B      10.5\n",
      "143   8.0 2012-11-08           LAB B      10.2\n",
      "159   9.0 2012-09-04           LAB B       9.0\n",
      "160   9.0 2012-09-20           LAB B       9.6\n",
      "161   9.0 2012-10-04           LAB B      10.9\n",
      "162   9.0 2012-10-18           LAB B      10.4\n",
      "163   9.0 2012-11-08           LAB B      10.7\n",
      "164   9.0 2012-11-19           LAB B       9.8\n",
      "165   9.0 2012-11-29           LAB B      10.7\n",
      "176  10.0 2012-09-04           LAB B       9.3\n",
      "177  10.0 2012-09-20           LAB B       9.5\n",
      "178  10.0 2012-10-04           LAB B      10.3\n",
      "179  10.0 2012-10-18           LAB B      10.4\n",
      "180  10.0 2012-11-08           LAB B      11.0\n",
      "    ID    Med Admin Date  Units\n",
      "24   1  Med A 2012-09-03   1900\n",
      "25   1  Med A 2012-09-05   1900\n",
      "26   1  Med B 2012-09-12      4\n",
      "27   1  Med B 2012-10-17      3\n",
      "28   1  Med B 2012-11-28      1\n",
      "ID                 104\n",
      "DRAW_DATE           65\n",
      "LAB_RESULT_CODE      1\n",
      "LAB_VALUE           73\n",
      "dtype: int64\n"
     ]
    }
   ],
   "source": [
    "#Q10 9-11月 轉換的病患 反應為lab_b 計算在med_a b 時的平均\n",
    "#篩選病患  \n",
    "\n",
    "admin_Q10_d=admin.copy()\n",
    "admin_Q10_d=admin_Q10_d[(admin_Q10_d[\"Admin Date\"]>=\"2012-09\") & (admin_Q10_d[\"Admin Date\"]<=\"2012-12\")]\n",
    "print(admin_Q10_d)\n",
    "\n",
    "labs_Q10=labs_new.copy()\n",
    "\n",
    "labs_Q10=labs_Q10[(labs_Q10[\"DRAW_DATE\"]>=\"2012-09\")&(labs_Q10[\"DRAW_DATE\"]<=\"2012-12\")]\n",
    "labs_Q10 = labs_Q10[labs_Q10[\"LAB_RESULT_CODE\"] == \"LAB B\"]\n",
    "\n",
    "print(labs_Q10.head(50))\n",
    "print(admin_Q10_d.head())\n",
    "print(labs_Q10.nunique())\n",
    "#完成篩選出3個月內 lab_b的病患\n",
    "\n"
   ]
  },
  {
   "cell_type": "code",
   "execution_count": 35,
   "id": "090a6d97",
   "metadata": {},
   "outputs": [
    {
     "name": "stdout",
     "output_type": "stream",
     "text": [
      "datetime64[ns]\n"
     ]
    }
   ],
   "source": [
    "#1.篩選labs三個月內病患且 lab B\n",
    "#2.從先前資料取得3個月內病患 \n",
    "#3-1.分別計算MED A MED B unit\n",
    "#3-2 計算 lab b 被分類的vakue\n",
    "print(labs_Q10[\"DRAW_DATE\"].dtypes)\n"
   ]
  },
  {
   "cell_type": "code",
   "execution_count": 105,
   "id": "e3958224",
   "metadata": {},
   "outputs": [
    {
     "name": "stdout",
     "output_type": "stream",
     "text": [
      "         ID  DRAW_DATE LAB_RESULT_CODE LAB_VALUE LAB_Type\n",
      "10      1.0 2012-09-05           LAB B      10.4    Med A\n",
      "11      1.0 2012-09-19           LAB B      10.7    Med B\n",
      "12      1.0 2012-10-03           LAB B      11.0    Med B\n",
      "13      1.0 2012-10-17           LAB B      11.0    Med B\n",
      "14      1.0 2012-11-07           LAB B      11.9    Med B\n",
      "...     ...        ...             ...       ...      ...\n",
      "2375  128.0 2012-10-04           LAB B      10.9    Med A\n",
      "2376  128.0 2012-10-18           LAB B      11.3    Med A\n",
      "2377  128.0 2012-11-08           LAB B      10.1    Med A\n",
      "2378  128.0 2012-11-19           LAB B       9.2    Med A\n",
      "2393  129.0 2012-09-04           LAB B       9.4    Med A\n",
      "\n",
      "[579 rows x 5 columns]\n"
     ]
    }
   ],
   "source": [
    "admin_test = admin_Q10_d[(admin_Q10_d[\"ID\"] == 1) & (admin_Q10_d[\"Med\"] == \"Med B\")][\"Admin Date\"].min()\n",
    "\n",
    "labs_test = labs_Q10.copy()\n",
    "\n",
    "def set_lab_type(row):\n",
    "    if row[\"ID\"] == 1 and row[\"DRAW_DATE\"] >= admin_test:\n",
    "        return \"Med B\"\n",
    "    else:\n",
    "        return \"Med A\"\n",
    "\n",
    "labs_test[\"LAB_Type\"] = labs_test.apply(set_lab_type, axis=1)\n",
    "print(labs_test)"
   ]
  },
  {
   "cell_type": "code",
   "execution_count": 112,
   "id": "a3cacc1d",
   "metadata": {},
   "outputs": [
    {
     "name": "stdout",
     "output_type": "stream",
     "text": [
      "Results for Patient ID 129:\n",
      "      ID  DRAW_DATE LAB_RESULT_CODE LAB_VALUE LAB_Type\n",
      "10   1.0 2012-09-05           LAB B      10.4    Med A\n",
      "11   1.0 2012-09-19           LAB B      10.7    Med A\n",
      "12   1.0 2012-10-03           LAB B      11.0    Med A\n",
      "13   1.0 2012-10-17           LAB B      11.0    Med A\n",
      "14   1.0 2012-11-07           LAB B      11.9    Med A\n",
      "15   1.0 2012-11-20           LAB B      11.1    Med A\n",
      "33   2.0 2012-09-01           LAB B      10.6    Med A\n",
      "34   2.0 2012-09-04           LAB B      10.0    Med A\n",
      "35   2.0 2012-09-20           LAB B      10.8    Med A\n",
      "36   2.0 2012-10-06           LAB B      13.0    Med A\n",
      "37   2.0 2012-10-18           LAB B      12.0    Med A\n",
      "38   2.0 2012-11-08           LAB B      12.5    Med A\n",
      "39   2.0 2012-11-19           LAB B      10.6    Med A\n",
      "59   3.0 2012-09-05           LAB B      11.8    Med A\n",
      "60   3.0 2012-09-12           LAB B      12.0    Med A\n",
      "61   3.0 2012-09-19           LAB B      12.1    Med A\n",
      "62   3.0 2012-10-03           LAB B      11.9    Med A\n",
      "63   3.0 2012-10-17           LAB B      11.6    Med A\n",
      "64   3.0 2012-11-07           LAB B      11.9    Med A\n",
      "65   3.0 2012-11-20           LAB B      11.8    Med A\n",
      "82   4.0 2012-09-05           LAB B      11.3    Med A\n",
      "83   4.0 2012-09-19           LAB B      12.6    Med A\n",
      "84   4.0 2012-10-03           LAB B      13.0    Med A\n",
      "85   4.0 2012-10-17           LAB B      12.3    Med A\n",
      "86   4.0 2012-11-07           LAB B      11.5    Med A\n",
      "87   4.0 2012-11-20           LAB B      10.7    Med A\n",
      "104  5.0 2012-09-07           LAB B      10.7    Med A\n",
      "105  5.0 2012-09-12           LAB B       9.9    Med A\n",
      "106  5.0 2012-09-19           LAB B      10.4    Med A\n",
      "107  5.0 2012-10-03           LAB B      11.0    Med A\n",
      "108  5.0 2012-10-17           LAB B      10.0    Med A\n",
      "109  5.0 2012-11-07           LAB B       9.9    Med A\n",
      "110  5.0 2012-11-20           LAB B      10.4    Med A\n",
      "139  8.0 2012-09-04           LAB B       9.9    Med A\n",
      "140  8.0 2012-09-20           LAB B      10.1    Med A\n",
      "141  8.0 2012-10-04           LAB B      10.7    Med A\n",
      "142  8.0 2012-10-18           LAB B      10.5    Med A\n",
      "143  8.0 2012-11-08           LAB B      10.2    Med A\n",
      "159  9.0 2012-09-04           LAB B       9.0    Med A\n",
      "160  9.0 2012-09-20           LAB B       9.6    Med A\n"
     ]
    }
   ],
   "source": [
    "labs_test = labs_Q10.copy()\n",
    "\n",
    "for patient_id in range(1, 130):\n",
    "    # 步骤1：在 admin_Q10_d 中筛选 \"Med\" 为 \"Med B\" 的日期并选择最小的 \"Admin Date\"\n",
    "    admin_test = admin_Q10_d[(admin_Q10_d[\"ID\"] == patient_id) & (admin_Q10_d[\"Med\"] == \"Med B\")][\"Admin Date\"].min()\n",
    "    \n",
    "    # 步骤2：在 labs_test 中将 \"Admin Date\" 与 \"DRAW_DATE\" 进行比较并设置 \"LAB_Type\"\n",
    "    def set_lab_type(row):\n",
    "        if row[\"ID\"] == patient_id and row[\"DRAW_DATE\"] >= admin_test:\n",
    "            return \"Med B\"\n",
    "        else:\n",
    "            return \"Med A\"\n",
    "    \n",
    "    # 使用 apply 将设置 \"LAB_Type\" 函数应用于 labs_test\n",
    "    labs_test[\"LAB_Type\"] = labs_test.apply(set_lab_type, axis=1)\n",
    "    \n",
    "    # 输出或保存每个患者 ID 处理后的结果\n",
    "print(f\"Results for Patient ID {patient_id}:\")\n",
    "print(labs_test.head(40))  # 可以根据需求将结果打印或保存到文件\n",
    "\n"
   ]
  }
 ],
 "metadata": {
  "kernelspec": {
   "display_name": "Python 3 (ipykernel)",
   "language": "python",
   "name": "python3"
  },
  "language_info": {
   "codemirror_mode": {
    "name": "ipython",
    "version": 3
   },
   "file_extension": ".py",
   "mimetype": "text/x-python",
   "name": "python",
   "nbconvert_exporter": "python",
   "pygments_lexer": "ipython3",
   "version": "3.10.9"
  }
 },
 "nbformat": 4,
 "nbformat_minor": 5
}
